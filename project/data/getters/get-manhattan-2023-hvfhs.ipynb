{
 "metadata": {
  "kernelspec": {
   "language": "python",
   "display_name": "Python 3",
   "name": "python3"
  },
  "language_info": {
   "name": "python",
   "version": "3.10.14",
   "mimetype": "text/x-python",
   "codemirror_mode": {
    "name": "ipython",
    "version": 3
   },
   "pygments_lexer": "ipython3",
   "nbconvert_exporter": "python",
   "file_extension": ".py"
  },
  "kaggle": {
   "accelerator": "none",
   "dataSources": [
    {
     "sourceId": 7045265,
     "sourceType": "datasetVersion",
     "datasetId": 4054002
    },
    {
     "sourceId": 10133621,
     "sourceType": "datasetVersion",
     "datasetId": 6254170
    }
   ],
   "dockerImageVersionId": 30804,
   "isInternetEnabled": false,
   "language": "python",
   "sourceType": "notebook",
   "isGpuEnabled": false
  }
 },
 "nbformat_minor": 4,
 "nbformat": 4,
 "cells": [
  {
   "cell_type": "code",
   "source": [
    "import pandas as pd\n",
    "import os\n",
    "import geopandas as gpd\n",
    "\n",
    "# Define the paths\n",
    "INPUT_DIR = '/kaggle/input/nyc-taxi-dataset/Dataset/2022/high_volume_for_hire_vehicle'\n",
    "TAXI_ZONES_PATH = '/kaggle/input/nyc-taxi-zones/NYC Taxi Zones.geojson'\n",
    "\n",
    "# Columns and mapping\n",
    "FEE_COLS = ['base_passenger_fare', 'tolls', 'bcf', 'sales_tax', 'congestion_surcharge', 'airport_fee']\n",
    "DROP_COLS = ['dispatching_base_num', 'originating_base_num', 'on_scene_datetime', 'tips', 'shared_request_flag',\n",
    "             'shared_match_flag', 'access_a_ride_flag', 'wav_request_flag', 'wav_match_flag', 'base_passenger_fare',\n",
    "             'tolls', 'bcf', 'sales_tax', 'congestion_surcharge', 'airport_fee', 'hvfhs_license_num', 'driver_pay']\n",
    "LICENSE_MAP = {\n",
    "    \"HV0002\": \"Juno\",\n",
    "    \"HV0003\": \"Uber\",\n",
    "    \"HV0004\": \"Via\",\n",
    "    \"HV0005\": \"Lyft\"\n",
    "}\n",
    "\n",
    "def process_batch(df, valid_locations):\n",
    "    # Add new column 'fee' as the sum of the FEE_COLS\n",
    "    df['fee'] = df[FEE_COLS].sum(axis=1)\n",
    "\n",
    "    # Replace the values in 'hvfhs_license_num' and rename the column\n",
    "    df['hvfhs'] = pd.Categorical(df['hvfhs_license_num'].replace(LICENSE_MAP))\n",
    "\n",
    "    # Drop the specified columns\n",
    "    df.drop(columns=DROP_COLS, inplace=True)\n",
    "\n",
    "    # Filter rows where pickup and dropoff locations are in Manhattan\n",
    "    df = df.loc[\n",
    "        df[\"PULocationID\"].isin(valid_locations) &\n",
    "        df[\"DOLocationID\"].isin(valid_locations)\n",
    "    ].copy()\n",
    "\n",
    "    return df\n",
    "\n",
    "# Load the NYC Taxi Zones GeoJSON to identify Manhattan location IDs\n",
    "gdf = gpd.read_file(TAXI_ZONES_PATH)\n",
    "gdf = gdf[gdf['borough'] == 'Manhattan']\n",
    "manhattan_locations = gdf['location_id'].astype(int).tolist()\n",
    "\n",
    "combined_df = None  # Initialize as None\n",
    "\n",
    "for filename in os.listdir(INPUT_DIR):\n",
    "    if filename.endswith('.parquet'):\n",
    "        file_path = os.path.join(INPUT_DIR, filename)\n",
    "        # Read the .parquet file into a DataFrame\n",
    "        df = pd.read_parquet(file_path)\n",
    "        # Process the DataFrame with the Manhattan filter\n",
    "        df = process_batch(df, manhattan_locations)\n",
    "        \n",
    "        if combined_df is None:\n",
    "            combined_df = df  # Initialize with the first DataFrame\n",
    "        else:\n",
    "            combined_df = pd.concat([combined_df, df], ignore_index=True)\n",
    "\n",
    "# Display the first few rows of the combined DataFrame\n",
    "print(combined_df.head())\n",
    "\n",
    "# Save the combined DataFrame to a CSV or Parquet file if needed\n",
    "combined_df.to_parquet('/kaggle/working/combined_manhattan.parquet', index=False)\n",
    "print(\"Combined DataFrame saved to /kaggle/working/combined_manhattan.parquet\")\n"
   ],
   "metadata": {
    "trusted": true,
    "execution": {
     "iopub.status.busy": "2024-12-08T02:26:25.748379Z",
     "iopub.execute_input": "2024-12-08T02:26:25.749996Z",
     "iopub.status.idle": "2024-12-08T02:30:55.944112Z",
     "shell.execute_reply.started": "2024-12-08T02:26:25.749932Z",
     "shell.execute_reply": "2024-12-08T02:30:55.942348Z"
    }
   },
   "outputs": [
    {
     "name": "stdout",
     "text": "     request_datetime     pickup_datetime    dropoff_datetime  PULocationID  \\\n0 2023-01-01 00:18:06 2023-01-01 00:19:38 2023-01-01 00:48:07            48   \n1 2023-01-01 00:48:42 2023-01-01 00:58:39 2023-01-01 01:33:08           246   \n2 2023-01-01 00:06:54 2023-01-01 00:10:29 2023-01-01 00:18:22            90   \n3 2023-01-01 00:15:22 2023-01-01 00:22:10 2023-01-01 00:33:14           125   \n4 2023-01-01 00:26:02 2023-01-01 00:39:09 2023-01-01 01:03:50            68   \n\n   DOLocationID  trip_miles  trip_time    fee hvfhs  \n0            68        0.94       1709  31.78  Uber  \n1           163        2.78       2069  70.03  Uber  \n2           231        1.89        473  18.99  Uber  \n3           246        2.65        664  17.29  Uber  \n4           231        3.26       1481  36.74  Uber  \nCombined DataFrame saved to /kaggle/working/combined_manhattan.parquet\n",
     "output_type": "stream"
    }
   ],
   "execution_count": 5
  },
  {
   "cell_type": "code",
   "source": [
    "from IPython.display import FileLink\n",
    "FileLink(r'combined_manhattan.parquet')"
   ],
   "metadata": {
    "trusted": true,
    "execution": {
     "iopub.status.busy": "2024-12-08T02:32:55.791957Z",
     "iopub.execute_input": "2024-12-08T02:32:55.792568Z",
     "iopub.status.idle": "2024-12-08T02:32:55.803534Z",
     "shell.execute_reply.started": "2024-12-08T02:32:55.792521Z",
     "shell.execute_reply": "2024-12-08T02:32:55.802173Z"
    }
   },
   "outputs": [
    {
     "execution_count": 6,
     "output_type": "execute_result",
     "data": {
      "text/plain": "/kaggle/working/combined_manhattan.parquet",
      "text/html": "<a href='/kaggle/working/combined_manhattan.parquet' target='_blank'>/kaggle/working/combined_manhattan.parquet</a><br>"
     },
     "metadata": {}
    }
   ],
   "execution_count": 6
  }
 ]
}
